{
 "cells": [
  {
   "cell_type": "code",
   "execution_count": 1,
   "metadata": {},
   "outputs": [],
   "source": [
    "import torch\n",
    "import torch.nn as nn\n",
    "import torch.nn.functional as F"
   ]
  },
  {
   "cell_type": "code",
   "execution_count": 2,
   "metadata": {},
   "outputs": [],
   "source": [
    "from torch.utils.data import TensorDataset, DataLoader"
   ]
  },
  {
   "cell_type": "code",
   "execution_count": 3,
   "metadata": {},
   "outputs": [],
   "source": [
    "import lightning as pl\n",
    "from lightning.pytorch.loggers import TensorBoardLogger\n",
    "import torchmetrics"
   ]
  },
  {
   "cell_type": "code",
   "execution_count": 4,
   "metadata": {},
   "outputs": [],
   "source": [
    "# config\n",
    "# epochs = 80\n",
    "max_epochs = 150\n",
    "learning_rate = 0.0005\n",
    "\n",
    "conv1_kernels = 128\n",
    "conv2_kernels = 96\n",
    "\n",
    "conv1_filter_size = 2\n",
    "conv2_filter_size = 2\n",
    "\n",
    "# in_features=1152\n",
    "input_channels = 18 # like color channels\n",
    "h1 = 1536#1624\n",
    "h2 = 960#1624\n",
    "h3 = 400#200\n",
    "out_features = 64\n",
    "\n",
    "batch_size = 512 # batch is about 0.5% of whole dataset, so each step will be 1/200 of an epoch\n",
    "\n",
    "logging_name = 'CNN1'\n",
    "\n",
    "project = \"chess CNN model 2\"\n",
    "architecture = \"Convolutional network, 1 label, 128, 128, 2size filter\",\n",
    "dataset = \"max rapid games\","
   ]
  },
  {
   "cell_type": "code",
   "execution_count": 5,
   "metadata": {},
   "outputs": [
    {
     "name": "stdout",
     "output_type": "stream",
     "text": [
      "torch.Size([134152, 18, 8, 8])\n"
     ]
    }
   ],
   "source": [
    "data_training = torch.load('tensor_data/nn1_rapid_games_data_training_09_02_24.pt')\n",
    "data_training = data_training.view(data_training.shape[0], 18, 8, 8)\n",
    "print(data_training.shape)\n",
    "# data_training.to(device)"
   ]
  },
  {
   "cell_type": "code",
   "execution_count": 6,
   "metadata": {},
   "outputs": [
    {
     "data": {
      "text/plain": [
       "torch.float64"
      ]
     },
     "execution_count": 6,
     "metadata": {},
     "output_type": "execute_result"
    }
   ],
   "source": [
    "data_training.dtype"
   ]
  },
  {
   "cell_type": "code",
   "execution_count": 7,
   "metadata": {},
   "outputs": [],
   "source": [
    "data_testing = torch.load('tensor_data/nn1_rapid_games_data_testing_09_02_24.pt')\n",
    "data_testing = data_testing.view(data_testing.shape[0], 18, 8, 8)\n",
    "# print(data_testing.shape)\n",
    "# data_testing.to(device)"
   ]
  },
  {
   "cell_type": "code",
   "execution_count": 8,
   "metadata": {},
   "outputs": [
    {
     "name": "stdout",
     "output_type": "stream",
     "text": [
      "torch.Size([134152])\n"
     ]
    }
   ],
   "source": [
    "lables_training = torch.load('tensor_data/nn1_rapid_games_lables_training_09_02_24.pt')\n",
    "print(lables_training.shape)\n",
    "# lables_training.to(device)"
   ]
  },
  {
   "cell_type": "code",
   "execution_count": 9,
   "metadata": {},
   "outputs": [
    {
     "name": "stdout",
     "output_type": "stream",
     "text": [
      "torch.Size([33538])\n"
     ]
    }
   ],
   "source": [
    "lables_testing = torch.load('tensor_data/nn1_rapid_games_lables_testing_09_02_24.pt')\n",
    "print(lables_testing.shape)\n",
    "# lables_testing.to(device)"
   ]
  },
  {
   "cell_type": "code",
   "execution_count": 11,
   "metadata": {},
   "outputs": [],
   "source": [
    "data_training = data_training.float()\n",
    "data_testing = data_testing.float()"
   ]
  },
  {
   "cell_type": "code",
   "execution_count": 12,
   "metadata": {},
   "outputs": [],
   "source": [
    "lables_training = lables_training.long()\n",
    "lables_testing = lables_testing.long()"
   ]
  },
  {
   "cell_type": "code",
   "execution_count": 13,
   "metadata": {},
   "outputs": [
    {
     "data": {
      "text/plain": [
       "<torch._C.Generator at 0x7f4a7016bcf0>"
      ]
     },
     "execution_count": 13,
     "metadata": {},
     "output_type": "execute_result"
    }
   ],
   "source": [
    "torch.manual_seed(42)"
   ]
  },
  {
   "cell_type": "code",
   "execution_count": 14,
   "metadata": {},
   "outputs": [],
   "source": [
    "training_dataset = TensorDataset(data_training, lables_training)\n",
    "testing_dataset = TensorDataset(data_testing, lables_testing)"
   ]
  },
  {
   "cell_type": "code",
   "execution_count": 15,
   "metadata": {},
   "outputs": [],
   "source": [
    "data_loader_training = DataLoader(training_dataset, batch_size=batch_size, shuffle=True, num_workers=7)\n",
    "data_loader_testing = DataLoader(testing_dataset, batch_size=batch_size, num_workers=7)\n"
   ]
  },
  {
   "cell_type": "code",
   "execution_count": null,
   "metadata": {},
   "outputs": [],
   "source": [
    "class Cnn(pl.LightningModule):\n",
    "\n",
    "    def __init__(self, input_channels=input_channels, h1=h1, h2=h2, h3=h3, out_features=64): #out = 64 squares to move to \n",
    "\n",
    "        super().__init__()\n",
    "\n",
    "        self.conv1 = nn.Conv2d(input_channels, conv1_kernels, conv1_filter_size, 1, padding='same')\n",
    "\n",
    "        self.conv2 = nn.Conv2d(conv1_kernels, conv2_kernels, conv2_filter_size, 1, padding='same')\n",
    "\n",
    "        # self.fc1 = nn.Linear(8*8*conv1_kernels, l1)\n",
    "        # self.fc2 = nn.Linear(l1, l2)\n",
    "        # self.fc3 = nn.Linear(l2, l3)\n",
    "        # self.fc3 = nn.Linear(h2, h3)\n",
    "        # self.fc3 = nn.Linear(h2, h3)\n",
    "        # self.fc1 = nn.Linear(8192, 60)\n",
    "\n",
    "        self.fc1 = nn.Linear(8*8*conv2_kernels, h1)\n",
    "        self.fc2 = nn.Linear(h1, h2)\n",
    "        self.fc3 = nn.Linear(h2, h3)\n",
    "        # self.fc3 = nn.Linear(h2, h3)\n",
    "\n",
    "\n",
    "        self.out = nn.Linear(h3, out_features)\n",
    "        self.accuracy = torchmetrics.classification.Accuracy(task=\"multiclass\", num_classes=out_features)\n",
    "\n",
    "    def forward(self, x):\n",
    "        \n",
    "        x = F.relu(self.conv1(x))\n",
    "        x = F.relu(self.conv2(x))\n",
    "\n",
    "\n",
    "        x = x.view(-1, 8*8*conv2_kernels)\n",
    "        # x = x.view(-1,1152)\n",
    "        x = F.relu(self.fc1(x))\n",
    "        x = F.relu(self.fc2(x))\n",
    "        x = F.relu(self.fc3(x))\n",
    "\n",
    "        x = self.out(x)\n",
    "\n",
    "        return x\n",
    "\n",
    "    def training_step(self, batch, batch_index):\n",
    "\n",
    "        x, y = batch\n",
    "        preds = self.forward(x) # since we run itself\n",
    "        # print(preds)\n",
    "        loss = F.cross_entropy(preds, y)\n",
    "        \n",
    "        accuracy = self.accuracy(preds, y)\n",
    "        # self.log('train_acc_step', self.accuracy)\n",
    "        self.log('loss', loss)\n",
    "        self.log('accuracy', accuracy)\n",
    "\n",
    "        return loss\n",
    "\n",
    "    def validation_step(self, batch, batch_index):\n",
    "\n",
    "        x, y = batch\n",
    "        preds = self.forward(x) # since we run itself\n",
    "        loss = F.cross_entropy(preds, y)\n",
    "        accuracy = self.accuracy(preds, y)\n",
    "        \n",
    "        # self.log('train_acc_step', self.accuracy)\n",
    "        self.log('loss validation', loss)\n",
    "        self.log('accuracy validation', accuracy)\n",
    "\n",
    "        return loss\n",
    "\n",
    "    def configure_optimizers(self):\n",
    "\n",
    "        return torch.optim.Adam(self.parameters(), lr=learning_rate)\n",
    "\n"
   ]
  },
  {
   "cell_type": "code",
   "execution_count": 17,
   "metadata": {},
   "outputs": [],
   "source": [
    "model = Cnn()"
   ]
  },
  {
   "cell_type": "code",
   "execution_count": 18,
   "metadata": {},
   "outputs": [],
   "source": [
    "logger = TensorBoardLogger(\"lightning_logs\", name=logging_name) #tb logs is a directory?"
   ]
  },
  {
   "cell_type": "code",
   "execution_count": 19,
   "metadata": {},
   "outputs": [
    {
     "name": "stderr",
     "output_type": "stream",
     "text": [
      "Using 16bit Automatic Mixed Precision (AMP)\n",
      "GPU available: True (cuda), used: True\n",
      "TPU available: False, using: 0 TPU cores\n",
      "IPU available: False, using: 0 IPUs\n",
      "HPU available: False, using: 0 HPUs\n",
      "LOCAL_RANK: 0 - CUDA_VISIBLE_DEVICES: [0]\n",
      "\n",
      "  | Name     | Type               | Params\n",
      "------------------------------------------------\n",
      "0 | conv1    | Conv2d             | 9.3 K \n",
      "1 | conv2    | Conv2d             | 49.2 K\n",
      "2 | fc1      | Linear             | 9.4 M \n",
      "3 | fc2      | Linear             | 1.5 M \n",
      "4 | fc3      | Linear             | 384 K \n",
      "5 | out      | Linear             | 25.7 K\n",
      "6 | accuracy | MulticlassAccuracy | 0     \n",
      "------------------------------------------------\n",
      "11.4 M    Trainable params\n",
      "0         Non-trainable params\n",
      "11.4 M    Total params\n",
      "45.532    Total estimated model params size (MB)\n"
     ]
    },
    {
     "name": "stdout",
     "output_type": "stream",
     "text": [
      "                                                                           \r"
     ]
    },
    {
     "name": "stderr",
     "output_type": "stream",
     "text": [
      "/home/maru/miniforge3/envs/torch_chess/lib/python3.11/site-packages/torch/nn/modules/conv.py:456: UserWarning: Using padding='same' with even kernel lengths and odd dilation may require a zero-padded copy of the input be created (Triggered internally at /home/conda/feedstock_root/build_artifacts/libtorch_1705951428005/work/aten/src/ATen/native/Convolution.cpp:1008.)\n",
      "  return F.conv2d(input, weight, bias, self.stride,\n",
      "/tmp/ipykernel_194645/2864013888.py:39: UserWarning: Implicit dimension choice for softmax has been deprecated. Change the call to include dim=X as an argument.\n",
      "  x = F.softmax(self.out(x))\n"
     ]
    },
    {
     "name": "stdout",
     "output_type": "stream",
     "text": [
      "Epoch 149: 100%|██████████| 263/263 [00:07<00:00, 36.91it/s, v_num=9]"
     ]
    },
    {
     "name": "stderr",
     "output_type": "stream",
     "text": [
      "`Trainer.fit` stopped: `max_epochs=150` reached.\n"
     ]
    },
    {
     "name": "stdout",
     "output_type": "stream",
     "text": [
      "Epoch 149: 100%|██████████| 263/263 [00:07<00:00, 35.20it/s, v_num=9]\n"
     ]
    }
   ],
   "source": [
    "# trainer = pl.Trainer(max_epochs=20, logger=logger, precision='32')\n",
    "trainer = pl.Trainer(max_epochs=max_epochs, logger=logger, precision='16-mixed')\n",
    "\n",
    "trainer.fit(model, data_loader_training, data_loader_testing)"
   ]
  },
  {
   "cell_type": "code",
   "execution_count": null,
   "metadata": {},
   "outputs": [],
   "source": []
  },
  {
   "cell_type": "code",
   "execution_count": null,
   "metadata": {},
   "outputs": [],
   "source": []
  },
  {
   "cell_type": "code",
   "execution_count": 20,
   "metadata": {},
   "outputs": [
    {
     "ename": "NameError",
     "evalue": "name 'epochs' is not defined",
     "output_type": "error",
     "traceback": [
      "\u001b[0;31m---------------------------------------------------------------------------\u001b[0m",
      "\u001b[0;31mNameError\u001b[0m                                 Traceback (most recent call last)",
      "\u001b[1;32m/home/maru/neural_networks/my_own/cnn_chess_nn1_lightning.ipynb Cell 22\u001b[0m line \u001b[0;36m1\n\u001b[0;32m----> <a href='vscode-notebook-cell:/home/maru/neural_networks/my_own/cnn_chess_nn1_lightning.ipynb#X31sZmlsZQ%3D%3D?line=0'>1</a>\u001b[0m torch\u001b[39m.\u001b[39msave(model\u001b[39m.\u001b[39mstate_dict(), \u001b[39mf\u001b[39m\u001b[39m'\u001b[39m\u001b[39mmodels/nn1_model_ck1\u001b[39m\u001b[39m{\u001b[39;00mconv1_kernels\u001b[39m}\u001b[39;00m\u001b[39m_ck2\u001b[39m\u001b[39m{\u001b[39;00mconv2_kernels\u001b[39m}\u001b[39;00m\u001b[39m_fc1\u001b[39m\u001b[39m{\u001b[39;00mh1\u001b[39m}\u001b[39;00m\u001b[39m_fc2\u001b[39m\u001b[39m{\u001b[39;00mh2\u001b[39m}\u001b[39;00m\u001b[39m_e_\u001b[39m\u001b[39m{\u001b[39;00mepochs\u001b[39m}\u001b[39;00m\u001b[39m.pt\u001b[39m\u001b[39m'\u001b[39m)\n",
      "\u001b[0;31mNameError\u001b[0m: name 'epochs' is not defined"
     ]
    }
   ],
   "source": [
    "torch.save(model.state_dict(), f'models/nn1_model_ck1{conv1_kernels}_ck2{conv2_kernels}_fc1{h1}_fc2{h2}_e_{epochs}.pt')"
   ]
  },
  {
   "cell_type": "code",
   "execution_count": null,
   "metadata": {},
   "outputs": [],
   "source": [
    "torch.save(Cnn, f'model_definitions/nn1_model_def_ck1{conv1_kernels}_ck2{conv2_kernels}_fc1{l1}_fc2{l2}_e_{epochs}.pt')"
   ]
  },
  {
   "cell_type": "code",
   "execution_count": null,
   "metadata": {},
   "outputs": [],
   "source": [
    "torch.save(model, 'models/nn1_model_cnn_128_128_1624_1624_100_batches.pt')"
   ]
  },
  {
   "cell_type": "code",
   "execution_count": null,
   "metadata": {},
   "outputs": [],
   "source": [
    "# torch.save(model.state_dict(), 'models/nn1_model_linear_900_900.pt')"
   ]
  },
  {
   "cell_type": "code",
   "execution_count": null,
   "metadata": {},
   "outputs": [],
   "source": []
  },
  {
   "cell_type": "code",
   "execution_count": null,
   "metadata": {},
   "outputs": [],
   "source": []
  }
 ],
 "metadata": {
  "kernelspec": {
   "display_name": "torch_chess",
   "language": "python",
   "name": "python3"
  },
  "language_info": {
   "codemirror_mode": {
    "name": "ipython",
    "version": 3
   },
   "file_extension": ".py",
   "mimetype": "text/x-python",
   "name": "python",
   "nbconvert_exporter": "python",
   "pygments_lexer": "ipython3",
   "version": "3.11.7"
  }
 },
 "nbformat": 4,
 "nbformat_minor": 2
}
